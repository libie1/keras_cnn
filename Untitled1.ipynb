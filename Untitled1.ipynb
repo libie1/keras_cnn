{
 "cells": [
  {
   "cell_type": "code",
   "execution_count": 1,
   "metadata": {},
   "outputs": [
    {
     "name": "stderr",
     "output_type": "stream",
     "text": [
      "Using TensorFlow backend.\n"
     ]
    }
   ],
   "source": [
    "# Saving and loading model and weights\n",
    "from keras.models import model_from_json\n",
    "from keras.models import load_model\n",
    "\n",
    "loaded_model=load_model('model.hdf5')"
   ]
  },
  {
   "cell_type": "code",
   "execution_count": 7,
   "metadata": {},
   "outputs": [
    {
     "name": "stdout",
     "output_type": "stream",
     "text": [
      "(128, 128, 3)\n",
      "(1, 128, 128, 3)\n",
      "[[  1.02950598e-05   4.59201867e-04   9.96523440e-01   3.00697656e-03]]\n",
      "1/1 [==============================] - 0s\n",
      "[2]\n"
     ]
    }
   ],
   "source": [
    "# Import libraries\n",
    "import os,cv2\n",
    "import numpy as np\n",
    "import matplotlib.pyplot as plt\n",
    "\n",
    "\n",
    "from sklearn.utils import shuffle\n",
    "#from sklearn.cross_validation import train_test_split\n",
    "from sklearn.model_selection import train_test_split\n",
    "\n",
    "\n",
    "from keras import backend as K\n",
    "K.set_image_dim_ordering('tf')\n",
    "#K.image_data_format()\n",
    "\n",
    "\n",
    "from keras.utils import np_utils\n",
    "from keras.models import Sequential\n",
    "from keras.layers.core import Dense, Dropout, Activation, Flatten\n",
    "from keras.layers.convolutional import Conv2D, MaxPooling2D\n",
    "from keras.optimizers import SGD,RMSprop,adam\n",
    "\n",
    "\n",
    "num_channel=3\n",
    "# Testing a new image\n",
    "test_image = cv2.imread('data/horses/horse-106.jpg')\n",
    "#test_image=cv2.cvtColor(test_image, cv2.COLOR_BGR2GRAY)\n",
    "test_image=cv2.resize(test_image,(128,128))\n",
    "test_image = np.array(test_image)\n",
    "test_image = test_image.astype('float32')\n",
    "test_image /= 255\n",
    "print (test_image.shape)\n",
    "\n",
    "if K.image_dim_ordering()=='th':\n",
    "    test_image=np.rollaxis(test_image,2,0)\n",
    "    test_image= np.expand_dims(test_image, axis=0)\n",
    "    print (test_image.shape)\n",
    "else:\n",
    "    test_image= np.expand_dims(test_image, axis=0)\n",
    "    print (test_image.shape)\n",
    "\n",
    "# Predicting the test image\n",
    "print((loaded_model.predict(test_image)))\n",
    "print(loaded_model.predict_classes(test_image))\n"
   ]
  }
 ],
 "metadata": {
  "kernelspec": {
   "display_name": "Python 3",
   "language": "python",
   "name": "python3"
  },
  "language_info": {
   "codemirror_mode": {
    "name": "ipython",
    "version": 3
   },
   "file_extension": ".py",
   "mimetype": "text/x-python",
   "name": "python",
   "nbconvert_exporter": "python",
   "pygments_lexer": "ipython3",
   "version": "3.6.2"
  }
 },
 "nbformat": 4,
 "nbformat_minor": 2
}
